{
 "cells": [
  {
   "cell_type": "code",
   "execution_count": 1,
   "id": "0e34d134-9a14-402b-a6fd-c6caee295af1",
   "metadata": {},
   "outputs": [],
   "source": [
    "from board import Board\n",
    "from bitboard import *\n",
    "import numpy as np"
   ]
  },
  {
   "cell_type": "code",
   "execution_count": 2,
   "id": "b05e4f2d-4775-4dd3-aca5-645f62816ef2",
   "metadata": {},
   "outputs": [],
   "source": [
    "bb1 = BitBoard(board_type = \"Piece\", color = \"White\", piece = \"Pawn\")\n",
    "bb2 = BitBoard(board_type = \"Piece\", color = \"Black\", piece = \"Pawn\")"
   ]
  },
  {
   "cell_type": "code",
   "execution_count": 3,
   "id": "77f09f81-c1a4-495c-b782-1c6f44f715f9",
   "metadata": {},
   "outputs": [],
   "source": [
    "board = Board()"
   ]
  },
  {
   "cell_type": "code",
   "execution_count": 4,
   "id": "b785fe78-dec8-44c4-a5ea-2eaefa8c72af",
   "metadata": {},
   "outputs": [
    {
     "name": "stdout",
     "output_type": "stream",
     "text": [
      "8  ░ ░ ░ ░ ░ ░ ░ ░\n",
      "7  ░ ░ ░ ░ ░ ░ ░ ░\n",
      "6  ▓ ▓ ▓ ▓ ▓ ▓ ▓ ▓\n",
      "5  ▓ ▓ ▓ ▓ ▓ ▓ ▓ ▓\n",
      "4  ▓ ▓ ▓ ▓ ▓ ▓ ▓ ▓\n",
      "3  ▓ ▓ ▓ ▓ ▓ ▓ ▓ ▓\n",
      "2  ░ ░ ░ ░ ░ ░ ░ ░\n",
      "1  ░ ░ ░ ░ ░ ░ ░ ░\n",
      "   A B C D E F G H\n"
     ]
    }
   ],
   "source": [
    "pprint_board(board.empty_squares)"
   ]
  },
  {
   "cell_type": "code",
   "execution_count": 8,
   "id": "e25d75e4-19e2-4e96-936b-81866ae1db99",
   "metadata": {},
   "outputs": [],
   "source": [
    "bb3 = board.get_king_attack_from(63)"
   ]
  },
  {
   "cell_type": "code",
   "execution_count": 9,
   "id": "4174b570-2306-4d9c-8a90-d18b29eb31ab",
   "metadata": {},
   "outputs": [
    {
     "name": "stdout",
     "output_type": "stream",
     "text": [
      "8  ░ ░ ░ ░ ░ ░ ▓ ░\n",
      "7  ░ ░ ░ ░ ░ ░ ▓ ▓\n",
      "6  ░ ░ ░ ░ ░ ░ ░ ░\n",
      "5  ░ ░ ░ ░ ░ ░ ░ ░\n",
      "4  ░ ░ ░ ░ ░ ░ ░ ░\n",
      "3  ░ ░ ░ ░ ░ ░ ░ ░\n",
      "2  ░ ░ ░ ░ ░ ░ ░ ░\n",
      "1  ░ ░ ░ ░ ░ ░ ░ ░\n",
      "   A B C D E F G H\n"
     ]
    }
   ],
   "source": [
    "pprint_board(bb3)"
   ]
  },
  {
   "cell_type": "code",
   "execution_count": null,
   "id": "802ef535-4825-4a9b-acf9-9da2dd8351cb",
   "metadata": {},
   "outputs": [],
   "source": []
  }
 ],
 "metadata": {
  "kernelspec": {
   "display_name": "Python 3",
   "language": "python",
   "name": "python3"
  },
  "language_info": {
   "codemirror_mode": {
    "name": "ipython",
    "version": 3
   },
   "file_extension": ".py",
   "mimetype": "text/x-python",
   "name": "python",
   "nbconvert_exporter": "python",
   "pygments_lexer": "ipython3",
   "version": "3.8.8"
  }
 },
 "nbformat": 4,
 "nbformat_minor": 5
}
