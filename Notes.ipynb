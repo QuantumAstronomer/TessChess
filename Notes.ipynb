{
 "cells": [
  {
   "cell_type": "code",
   "execution_count": 32,
   "id": "0d61afe0-9f8a-46f2-ad3e-d5e6570c4a07",
   "metadata": {},
   "outputs": [],
   "source": [
    "from BitboardHelpers import *\n",
    "from Constants import *\n",
    "from Attacks import *\n",
    "import numpy as np"
   ]
  },
  {
   "cell_type": "code",
   "execution_count": 2,
   "id": "a0054960-9a95-4e00-b775-03eb1c4326ab",
   "metadata": {},
   "outputs": [],
   "source": [
    "bitboard = make_uint()"
   ]
  },
  {
   "cell_type": "code",
   "execution_count": 3,
   "id": "eac273af-41ff-47e7-9be6-2186815816e8",
   "metadata": {},
   "outputs": [
    {
     "name": "stdout",
     "output_type": "stream",
     "text": [
      "8  ░ ░ ░ ░ ░ ░ ░ ▓\n",
      "7  ░ ░ ░ ░ ░ ░ ▓ ░\n",
      "6  ░ ░ ░ ░ ░ ▓ ░ ░\n",
      "5  ░ ░ ░ ░ ░ ░ ░ ░\n",
      "4  ░ ░ ░ ░ ░ ░ ░ ░\n",
      "3  ░ ░ ░ ░ ░ ░ ░ ░\n",
      "2  ░ ░ ░ ░ ░ ░ ░ ░\n",
      "1  ░ ░ ░ ░ ░ ░ ░ ░\n",
      "   A B C D E F G H\n"
     ]
    }
   ],
   "source": [
    "bitboard_pprint(northeast_ray(bitboard, 36))"
   ]
  },
  {
   "cell_type": "code",
   "execution_count": 3,
   "id": "c01c6286-4e5f-4df5-aca8-48e5532e5d51",
   "metadata": {},
   "outputs": [
    {
     "name": "stdout",
     "output_type": "stream",
     "text": [
      "pygame 2.1.2 (SDL 2.0.18, Python 3.9.7)\n",
      "Hello from the pygame community. https://www.pygame.org/contribute.html\n"
     ]
    }
   ],
   "source": [
    "import pygame as pg"
   ]
  },
  {
   "cell_type": "code",
   "execution_count": 4,
   "id": "b459b374-3464-47c6-bd8f-4436492fdf43",
   "metadata": {},
   "outputs": [],
   "source": [
    "IMAGES = {}\n",
    "\n",
    "RSQ_SIZE = 120\n",
    "image_folder = \"Images/standard/\"\n",
    "\n",
    "pieces = [\"wP\", \"wR\", \"wN\", \"wB\", \"wK\", \"wQ\", \"bP\", \"bR\", \"bN\", \"bB\", \"bK\", \"bQ\"]\n",
    "for piece in pieces:\n",
    "    IMAGES[piece] = pg.transform.scale(pg.image.load(image_folder + piece.lower() + \".png\"), (RSQ_SIZE, RSQ_SIZE))"
   ]
  },
  {
   "cell_type": "code",
   "execution_count": 5,
   "id": "1a1e960c-72c7-4633-a0dc-680bb1ba7182",
   "metadata": {},
   "outputs": [
    {
     "data": {
      "text/plain": [
       "<Surface(120x120x32 SW)>"
      ]
     },
     "execution_count": 5,
     "metadata": {},
     "output_type": "execute_result"
    }
   ],
   "source": [
    "IMAGES['wP']"
   ]
  },
  {
   "cell_type": "code",
   "execution_count": 12,
   "id": "ba2b0091-6647-4557-a748-e149303b89f1",
   "metadata": {},
   "outputs": [],
   "source": [
    "dicta = {'x':3, 'y':4, 'z':5}\n",
    "dictb = {'x':3, 'y':4, 'z':6}"
   ]
  },
  {
   "cell_type": "code",
   "execution_count": 24,
   "id": "a70fd85f-3250-4763-919a-bfeb0af9bd5a",
   "metadata": {},
   "outputs": [],
   "source": [
    "dictionary = {}\n",
    "d = 'key'\n",
    "z = 10"
   ]
  },
  {
   "cell_type": "code",
   "execution_count": 22,
   "id": "2a3e37d7-676c-4ce1-973a-559551d1954b",
   "metadata": {},
   "outputs": [
    {
     "name": "stdout",
     "output_type": "stream",
     "text": [
      "z : 5 -> 6\n"
     ]
    }
   ],
   "source": [
    "diffkeys = [k for k in dicta if dicta[k] != dictb[k]]\n",
    "for k in diffkeys:\n",
    "    print(k, ':', dicta[k], '->', dictb[k])"
   ]
  },
  {
   "cell_type": "code",
   "execution_count": 25,
   "id": "8d166335-2a99-456b-af45-c1486f07efad",
   "metadata": {},
   "outputs": [],
   "source": [
    "dictionary[d] = z"
   ]
  },
  {
   "cell_type": "code",
   "execution_count": 26,
   "id": "9e08650a-a279-4864-a0c8-542b0b2f7c37",
   "metadata": {},
   "outputs": [
    {
     "name": "stdout",
     "output_type": "stream",
     "text": [
      "{'key': 10}\n"
     ]
    }
   ],
   "source": [
    "print(dictionary)"
   ]
  },
  {
   "cell_type": "code",
   "execution_count": 28,
   "id": "6d414bb5-d1c5-4897-b378-7a4e0d94d282",
   "metadata": {},
   "outputs": [
    {
     "data": {
      "text/plain": [
       "dict_items([('x', 3), ('y', 4), ('z', 5)])"
      ]
     },
     "execution_count": 28,
     "metadata": {},
     "output_type": "execute_result"
    }
   ],
   "source": [
    "dicta.items()"
   ]
  },
  {
   "cell_type": "code",
   "execution_count": 29,
   "id": "989a520a-71c2-4260-82fc-0e8453cacf79",
   "metadata": {},
   "outputs": [],
   "source": [
    "change_map = {key : value for key, value in dicta.items() if dicta[key] != dictb[key]}"
   ]
  },
  {
   "cell_type": "code",
   "execution_count": 30,
   "id": "32384557-183b-4245-b686-a1f7fafedef5",
   "metadata": {},
   "outputs": [
    {
     "name": "stdout",
     "output_type": "stream",
     "text": [
      "{'z': 5}\n"
     ]
    }
   ],
   "source": [
    "print(change_map)"
   ]
  },
  {
   "cell_type": "code",
   "execution_count": 33,
   "id": "45ed3f25-c6c4-4ae9-948f-91603e57a9b0",
   "metadata": {},
   "outputs": [],
   "source": [
    "dicta = {'wP' : np.uint64(15)}\n",
    "dictb = {'wP' : np.uint64(23)}"
   ]
  },
  {
   "cell_type": "code",
   "execution_count": 36,
   "id": "1bcba243-4724-4dde-ba28-dd494a070ec5",
   "metadata": {},
   "outputs": [],
   "source": [
    "change_map = {key : value for key, value in dictb.items() if dicta[key] != dictb[key]}"
   ]
  },
  {
   "cell_type": "code",
   "execution_count": 37,
   "id": "1f6af4a8-aac4-4806-8605-ede2ec88edc2",
   "metadata": {},
   "outputs": [
    {
     "name": "stdout",
     "output_type": "stream",
     "text": [
      "{'wP': 23}\n"
     ]
    }
   ],
   "source": [
    "print(change_map)"
   ]
  },
  {
   "cell_type": "code",
   "execution_count": null,
   "id": "f8ded062-a772-457e-baa0-4d5201058fc5",
   "metadata": {},
   "outputs": [],
   "source": []
  }
 ],
 "metadata": {
  "kernelspec": {
   "display_name": "Python 3 (ipykernel)",
   "language": "python",
   "name": "python3"
  },
  "language_info": {
   "codemirror_mode": {
    "name": "ipython",
    "version": 3
   },
   "file_extension": ".py",
   "mimetype": "text/x-python",
   "name": "python",
   "nbconvert_exporter": "python",
   "pygments_lexer": "ipython3",
   "version": "3.9.7"
  }
 },
 "nbformat": 4,
 "nbformat_minor": 5
}
